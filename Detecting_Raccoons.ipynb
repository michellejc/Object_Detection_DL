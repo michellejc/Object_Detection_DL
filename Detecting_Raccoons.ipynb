{
 "cells": [
  {
   "cell_type": "markdown",
   "id": "familiar-debut",
   "metadata": {},
   "source": [
    "### Questions\n",
    "\n",
    "- What does label look like if no raccoons?\n",
    "- How is loss calculated for bounding box?\n",
    "\n",
    "### Thoughts\n",
    "\n",
    "- if we resize, we have to rescale bounding box also"
   ]
  },
  {
   "cell_type": "code",
   "execution_count": 2,
   "id": "fixed-indian",
   "metadata": {},
   "outputs": [],
   "source": [
    "import pandas as pd"
   ]
  },
  {
   "cell_type": "code",
   "execution_count": 3,
   "id": "french-swiss",
   "metadata": {},
   "outputs": [],
   "source": [
    "data_path = './Data/Racoon Images/images'\n",
    "labels = pd.read_csv('./Data/train_labels_.csv')"
   ]
  },
  {
   "cell_type": "code",
   "execution_count": 4,
   "id": "freelance-geneva",
   "metadata": {},
   "outputs": [
    {
     "data": {
      "text/html": [
       "<div>\n",
       "<style scoped>\n",
       "    .dataframe tbody tr th:only-of-type {\n",
       "        vertical-align: middle;\n",
       "    }\n",
       "\n",
       "    .dataframe tbody tr th {\n",
       "        vertical-align: top;\n",
       "    }\n",
       "\n",
       "    .dataframe thead th {\n",
       "        text-align: right;\n",
       "    }\n",
       "</style>\n",
       "<table border=\"1\" class=\"dataframe\">\n",
       "  <thead>\n",
       "    <tr style=\"text-align: right;\">\n",
       "      <th></th>\n",
       "      <th>filename</th>\n",
       "      <th>width</th>\n",
       "      <th>height</th>\n",
       "      <th>class</th>\n",
       "      <th>xmin</th>\n",
       "      <th>ymin</th>\n",
       "      <th>xmax</th>\n",
       "      <th>ymax</th>\n",
       "    </tr>\n",
       "  </thead>\n",
       "  <tbody>\n",
       "    <tr>\n",
       "      <th>0</th>\n",
       "      <td>raccoon-17.jpg</td>\n",
       "      <td>259</td>\n",
       "      <td>194</td>\n",
       "      <td>raccoon</td>\n",
       "      <td>95</td>\n",
       "      <td>60</td>\n",
       "      <td>167</td>\n",
       "      <td>118</td>\n",
       "    </tr>\n",
       "    <tr>\n",
       "      <th>1</th>\n",
       "      <td>raccoon-11.jpg</td>\n",
       "      <td>660</td>\n",
       "      <td>432</td>\n",
       "      <td>raccoon</td>\n",
       "      <td>3</td>\n",
       "      <td>1</td>\n",
       "      <td>461</td>\n",
       "      <td>431</td>\n",
       "    </tr>\n",
       "    <tr>\n",
       "      <th>2</th>\n",
       "      <td>raccoon-63.jpg</td>\n",
       "      <td>600</td>\n",
       "      <td>400</td>\n",
       "      <td>raccoon</td>\n",
       "      <td>74</td>\n",
       "      <td>107</td>\n",
       "      <td>280</td>\n",
       "      <td>290</td>\n",
       "    </tr>\n",
       "    <tr>\n",
       "      <th>3</th>\n",
       "      <td>raccoon-63.jpg</td>\n",
       "      <td>600</td>\n",
       "      <td>400</td>\n",
       "      <td>raccoon</td>\n",
       "      <td>227</td>\n",
       "      <td>93</td>\n",
       "      <td>403</td>\n",
       "      <td>298</td>\n",
       "    </tr>\n",
       "    <tr>\n",
       "      <th>4</th>\n",
       "      <td>raccoon-60.jpg</td>\n",
       "      <td>273</td>\n",
       "      <td>185</td>\n",
       "      <td>raccoon</td>\n",
       "      <td>58</td>\n",
       "      <td>33</td>\n",
       "      <td>197</td>\n",
       "      <td>127</td>\n",
       "    </tr>\n",
       "  </tbody>\n",
       "</table>\n",
       "</div>"
      ],
      "text/plain": [
       "         filename  width  height    class  xmin  ymin  xmax  ymax\n",
       "0  raccoon-17.jpg    259     194  raccoon    95    60   167   118\n",
       "1  raccoon-11.jpg    660     432  raccoon     3     1   461   431\n",
       "2  raccoon-63.jpg    600     400  raccoon    74   107   280   290\n",
       "3  raccoon-63.jpg    600     400  raccoon   227    93   403   298\n",
       "4  raccoon-60.jpg    273     185  raccoon    58    33   197   127"
      ]
     },
     "execution_count": 4,
     "metadata": {},
     "output_type": "execute_result"
    }
   ],
   "source": [
    "labels.head()"
   ]
  },
  {
   "cell_type": "code",
   "execution_count": null,
   "id": "informal-report",
   "metadata": {},
   "outputs": [],
   "source": []
  },
  {
   "cell_type": "code",
   "execution_count": null,
   "id": "neural-organic",
   "metadata": {},
   "outputs": [],
   "source": []
  }
 ],
 "metadata": {
  "kernelspec": {
   "display_name": "Python 3",
   "language": "python",
   "name": "python3"
  },
  "language_info": {
   "codemirror_mode": {
    "name": "ipython",
    "version": 3
   },
   "file_extension": ".py",
   "mimetype": "text/x-python",
   "name": "python",
   "nbconvert_exporter": "python",
   "pygments_lexer": "ipython3",
   "version": "3.8.6"
  }
 },
 "nbformat": 4,
 "nbformat_minor": 5
}
