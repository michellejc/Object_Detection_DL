{
 "cells": [
  {
   "cell_type": "markdown",
   "id": "bearing-activity",
   "metadata": {},
   "source": [
    "### Questions\n",
    "\n",
    "- What does label look like if no raccoons?\n",
    "- How is loss calculated for bounding box?\n",
    "\n",
    "### Thoughts\n",
    "\n",
    "- if we resize, we have to rescale bounding box also"
   ]
  },
  {
   "cell_type": "code",
   "execution_count": 1,
   "id": "occupied-african",
   "metadata": {},
   "outputs": [],
   "source": [
    "import cv2\n",
    "import time\n",
    "import os\n",
    "import numpy as np\n",
    "import pandas as pd\n",
    "import torch\n",
    "from torch.utils.data import Dataset\n",
    "from torch.utils.data import DataLoader\n",
    "import torch.nn as nn\n",
    "import torch.optim as optim\n",
    "\n",
    "import torchvision\n",
    "\n",
    "from tqdm.notebook import tqdm\n",
    "import matplotlib.pyplot as plt\n",
    "import matplotlib.patches as patches\n",
    "\n",
    "import albumentations as A\n",
    "import albumentations\n",
    "from albumentations.pytorch import ToTensorV2"
   ]
  },
  {
   "cell_type": "code",
   "execution_count": 2,
   "id": "sound-burke",
   "metadata": {},
   "outputs": [],
   "source": [
    "data_path = './Data/Racoon Images/images'\n",
    "df = pd.read_csv('./Data/train_labels_.csv')"
   ]
  },
  {
   "cell_type": "code",
   "execution_count": 3,
   "id": "central-public",
   "metadata": {},
   "outputs": [
    {
     "data": {
      "text/html": [
       "<div>\n",
       "<style scoped>\n",
       "    .dataframe tbody tr th:only-of-type {\n",
       "        vertical-align: middle;\n",
       "    }\n",
       "\n",
       "    .dataframe tbody tr th {\n",
       "        vertical-align: top;\n",
       "    }\n",
       "\n",
       "    .dataframe thead th {\n",
       "        text-align: right;\n",
       "    }\n",
       "</style>\n",
       "<table border=\"1\" class=\"dataframe\">\n",
       "  <thead>\n",
       "    <tr style=\"text-align: right;\">\n",
       "      <th></th>\n",
       "      <th>filename</th>\n",
       "      <th>width</th>\n",
       "      <th>height</th>\n",
       "      <th>class</th>\n",
       "      <th>xmin</th>\n",
       "      <th>ymin</th>\n",
       "      <th>xmax</th>\n",
       "      <th>ymax</th>\n",
       "    </tr>\n",
       "  </thead>\n",
       "  <tbody>\n",
       "    <tr>\n",
       "      <th>0</th>\n",
       "      <td>raccoon-17.jpg</td>\n",
       "      <td>259</td>\n",
       "      <td>194</td>\n",
       "      <td>raccoon</td>\n",
       "      <td>95</td>\n",
       "      <td>60</td>\n",
       "      <td>167</td>\n",
       "      <td>118</td>\n",
       "    </tr>\n",
       "    <tr>\n",
       "      <th>1</th>\n",
       "      <td>raccoon-11.jpg</td>\n",
       "      <td>660</td>\n",
       "      <td>432</td>\n",
       "      <td>raccoon</td>\n",
       "      <td>3</td>\n",
       "      <td>1</td>\n",
       "      <td>461</td>\n",
       "      <td>431</td>\n",
       "    </tr>\n",
       "    <tr>\n",
       "      <th>2</th>\n",
       "      <td>raccoon-63.jpg</td>\n",
       "      <td>600</td>\n",
       "      <td>400</td>\n",
       "      <td>raccoon</td>\n",
       "      <td>74</td>\n",
       "      <td>107</td>\n",
       "      <td>280</td>\n",
       "      <td>290</td>\n",
       "    </tr>\n",
       "    <tr>\n",
       "      <th>3</th>\n",
       "      <td>raccoon-63.jpg</td>\n",
       "      <td>600</td>\n",
       "      <td>400</td>\n",
       "      <td>raccoon</td>\n",
       "      <td>227</td>\n",
       "      <td>93</td>\n",
       "      <td>403</td>\n",
       "      <td>298</td>\n",
       "    </tr>\n",
       "    <tr>\n",
       "      <th>4</th>\n",
       "      <td>raccoon-60.jpg</td>\n",
       "      <td>273</td>\n",
       "      <td>185</td>\n",
       "      <td>raccoon</td>\n",
       "      <td>58</td>\n",
       "      <td>33</td>\n",
       "      <td>197</td>\n",
       "      <td>127</td>\n",
       "    </tr>\n",
       "  </tbody>\n",
       "</table>\n",
       "</div>"
      ],
      "text/plain": [
       "         filename  width  height    class  xmin  ymin  xmax  ymax\n",
       "0  raccoon-17.jpg    259     194  raccoon    95    60   167   118\n",
       "1  raccoon-11.jpg    660     432  raccoon     3     1   461   431\n",
       "2  raccoon-63.jpg    600     400  raccoon    74   107   280   290\n",
       "3  raccoon-63.jpg    600     400  raccoon   227    93   403   298\n",
       "4  raccoon-60.jpg    273     185  raccoon    58    33   197   127"
      ]
     },
     "execution_count": 3,
     "metadata": {},
     "output_type": "execute_result"
    }
   ],
   "source": [
    "df.head()"
   ]
  },
  {
   "cell_type": "code",
   "execution_count": 168,
   "id": "transparent-freeware",
   "metadata": {},
   "outputs": [
    {
     "data": {
      "text/plain": [
       "(194, 259, 3)"
      ]
     },
     "execution_count": 168,
     "metadata": {},
     "output_type": "execute_result"
    }
   ],
   "source": [
    "# Sample Image\n",
    "path = data_path + '/' + df.iloc[0]['filename']\n",
    "img = cv2.imread(path)\n",
    "img.shape"
   ]
  },
  {
   "cell_type": "code",
   "execution_count": 169,
   "id": "critical-atlantic",
   "metadata": {},
   "outputs": [
    {
     "data": {
      "text/plain": [
       "((95, 60), (167, 118))"
      ]
     },
     "execution_count": 169,
     "metadata": {},
     "output_type": "execute_result"
    }
   ],
   "source": [
    "# Bounding box for sample image\n",
    "x0 = df.iloc[0]['xmin']\n",
    "y0 = df.iloc[0]['ymin']\n",
    "x1 = df.iloc[0]['xmax']\n",
    "y1 = df.iloc[0]['ymax']\n",
    "(x0,y0), (x1,y1)"
   ]
  },
  {
   "cell_type": "code",
   "execution_count": 170,
   "id": "progressive-gospel",
   "metadata": {},
   "outputs": [],
   "source": [
    "def display_imgbb(img, xmin, ymin, xmax, ymax):\n",
    "    # Create figure and axes\n",
    "    fig,ax = plt.subplots(1)\n",
    "\n",
    "    # Display the image\n",
    "    ax.imshow(img)\n",
    "\n",
    "    # Create a Rectangle patch\n",
    "    rect = patches.Rectangle((xmin,ymin), (xmax - xmin) , (ymax - ymin) , linewidth=2, edgecolor='r', facecolor='none')\n",
    "\n",
    "    # Add the patch to the Axes\n",
    "    ax.add_patch(rect)\n",
    "\n",
    "    plt.imshow(cv2.cvtColor(img, cv2.COLOR_BGR2RGB))"
   ]
  },
  {
   "cell_type": "code",
   "execution_count": 171,
   "id": "concerned-orchestra",
   "metadata": {},
   "outputs": [
    {
     "data": {
      "image/png": "[encoded data removed]",
      "text/plain": [
       "<Figure size 432x288 with 1 Axes>"
      ]
     },
     "metadata": {
      "needs_background": "light"
     },
     "output_type": "display_data"
    }
   ],
   "source": [
    "display_imgbb(img,x0,y0,x1,y1)"
   ]
  },
  {
   "cell_type": "code",
   "execution_count": 172,
   "id": "australian-speed",
   "metadata": {},
   "outputs": [
    {
     "data": {
      "text/plain": [
       "(178, 154)"
      ]
     },
     "execution_count": 172,
     "metadata": {},
     "output_type": "execute_result"
    }
   ],
   "source": [
    "# smallest w,h\n",
    "df['width'].min(), df['height'].min()"
   ]
  },
  {
   "cell_type": "code",
   "execution_count": 4,
   "id": "blind-sponsorship",
   "metadata": {},
   "outputs": [],
   "source": [
    "# Rescale bounding box in preparation for rescaling images\n",
    "image_size = 128\n",
    "df['xmin_rs'] = df['xmin']*image_size/df['width']\n",
    "df['xmax_rs'] = df['xmax']*image_size/df['width']\n",
    "df['ymin_rs'] = df['ymin']*image_size/df['height']\n",
    "df['ymax_rs'] = df['ymax']*image_size/df['height']"
   ]
  },
  {
   "cell_type": "code",
   "execution_count": 5,
   "id": "comfortable-mongolia",
   "metadata": {},
   "outputs": [
    {
     "data": {
      "text/plain": [
       "12"
      ]
     },
     "execution_count": 5,
     "metadata": {},
     "output_type": "execute_result"
    }
   ],
   "source": [
    "# Images with >1 raccoon, remove to simplify model\n",
    "new = pd.DataFrame(df.filename.value_counts() > 1)\n",
    "new = new.reset_index()\n",
    "new = new[new['filename'] == True]\n",
    "for_removal = list(new['index'].values)\n",
    "len(for_removal)"
   ]
  },
  {
   "cell_type": "code",
   "execution_count": 6,
   "id": "cross-administrator",
   "metadata": {},
   "outputs": [
    {
     "data": {
      "text/plain": [
       "148"
      ]
     },
     "execution_count": 6,
     "metadata": {},
     "output_type": "execute_result"
    }
   ],
   "source": [
    "# Images with 1 raccoon only\n",
    "df = df[~df['filename'].isin(for_removal)]\n",
    "len(df)"
   ]
  },
  {
   "cell_type": "code",
   "execution_count": 31,
   "id": "a5157c99-a3a4-45b1-8e8d-77117ba07d8c",
   "metadata": {},
   "outputs": [
    {
     "data": {
      "text/html": [
       "<div>\n",
       "<style scoped>\n",
       "    .dataframe tbody tr th:only-of-type {\n",
       "        vertical-align: middle;\n",
       "    }\n",
       "\n",
       "    .dataframe tbody tr th {\n",
       "        vertical-align: top;\n",
       "    }\n",
       "\n",
       "    .dataframe thead th {\n",
       "        text-align: right;\n",
       "    }\n",
       "</style>\n",
       "<table border=\"1\" class=\"dataframe\">\n",
       "  <thead>\n",
       "    <tr style=\"text-align: right;\">\n",
       "      <th></th>\n",
       "      <th>filename</th>\n",
       "      <th>width</th>\n",
       "      <th>height</th>\n",
       "      <th>class</th>\n",
       "      <th>xmin</th>\n",
       "      <th>ymin</th>\n",
       "      <th>xmax</th>\n",
       "      <th>ymax</th>\n",
       "      <th>xmin_rs</th>\n",
       "      <th>xmax_rs</th>\n",
       "      <th>ymin_rs</th>\n",
       "      <th>ymax_rs</th>\n",
       "    </tr>\n",
       "  </thead>\n",
       "  <tbody>\n",
       "    <tr>\n",
       "      <th>0</th>\n",
       "      <td>raccoon-17.jpg</td>\n",
       "      <td>259</td>\n",
       "      <td>194</td>\n",
       "      <td>raccoon</td>\n",
       "      <td>95</td>\n",
       "      <td>60</td>\n",
       "      <td>167</td>\n",
       "      <td>118</td>\n",
       "      <td>46.949807</td>\n",
       "      <td>82.532819</td>\n",
       "      <td>39.587629</td>\n",
       "      <td>77.855670</td>\n",
       "    </tr>\n",
       "    <tr>\n",
       "      <th>1</th>\n",
       "      <td>raccoon-11.jpg</td>\n",
       "      <td>660</td>\n",
       "      <td>432</td>\n",
       "      <td>raccoon</td>\n",
       "      <td>3</td>\n",
       "      <td>1</td>\n",
       "      <td>461</td>\n",
       "      <td>431</td>\n",
       "      <td>0.581818</td>\n",
       "      <td>89.406061</td>\n",
       "      <td>0.296296</td>\n",
       "      <td>127.703704</td>\n",
       "    </tr>\n",
       "    <tr>\n",
       "      <th>4</th>\n",
       "      <td>raccoon-60.jpg</td>\n",
       "      <td>273</td>\n",
       "      <td>185</td>\n",
       "      <td>raccoon</td>\n",
       "      <td>58</td>\n",
       "      <td>33</td>\n",
       "      <td>197</td>\n",
       "      <td>127</td>\n",
       "      <td>27.194139</td>\n",
       "      <td>92.366300</td>\n",
       "      <td>22.832432</td>\n",
       "      <td>87.870270</td>\n",
       "    </tr>\n",
       "    <tr>\n",
       "      <th>5</th>\n",
       "      <td>raccoon-69.jpg</td>\n",
       "      <td>205</td>\n",
       "      <td>246</td>\n",
       "      <td>raccoon</td>\n",
       "      <td>12</td>\n",
       "      <td>11</td>\n",
       "      <td>188</td>\n",
       "      <td>240</td>\n",
       "      <td>7.492683</td>\n",
       "      <td>117.385366</td>\n",
       "      <td>5.723577</td>\n",
       "      <td>124.878049</td>\n",
       "    </tr>\n",
       "    <tr>\n",
       "      <th>6</th>\n",
       "      <td>raccoon-180.jpg</td>\n",
       "      <td>600</td>\n",
       "      <td>400</td>\n",
       "      <td>raccoon</td>\n",
       "      <td>119</td>\n",
       "      <td>21</td>\n",
       "      <td>368</td>\n",
       "      <td>399</td>\n",
       "      <td>25.386667</td>\n",
       "      <td>78.506667</td>\n",
       "      <td>6.720000</td>\n",
       "      <td>127.680000</td>\n",
       "    </tr>\n",
       "    <tr>\n",
       "      <th>...</th>\n",
       "      <td>...</td>\n",
       "      <td>...</td>\n",
       "      <td>...</td>\n",
       "      <td>...</td>\n",
       "      <td>...</td>\n",
       "      <td>...</td>\n",
       "      <td>...</td>\n",
       "      <td>...</td>\n",
       "      <td>...</td>\n",
       "      <td>...</td>\n",
       "      <td>...</td>\n",
       "      <td>...</td>\n",
       "    </tr>\n",
       "    <tr>\n",
       "      <th>168</th>\n",
       "      <td>raccoon-137.jpg</td>\n",
       "      <td>320</td>\n",
       "      <td>240</td>\n",
       "      <td>raccoon</td>\n",
       "      <td>71</td>\n",
       "      <td>8</td>\n",
       "      <td>304</td>\n",
       "      <td>233</td>\n",
       "      <td>28.400000</td>\n",
       "      <td>121.600000</td>\n",
       "      <td>4.266667</td>\n",
       "      <td>124.266667</td>\n",
       "    </tr>\n",
       "    <tr>\n",
       "      <th>169</th>\n",
       "      <td>raccoon-171.jpg</td>\n",
       "      <td>224</td>\n",
       "      <td>225</td>\n",
       "      <td>raccoon</td>\n",
       "      <td>108</td>\n",
       "      <td>21</td>\n",
       "      <td>180</td>\n",
       "      <td>115</td>\n",
       "      <td>61.714286</td>\n",
       "      <td>102.857143</td>\n",
       "      <td>11.946667</td>\n",
       "      <td>65.422222</td>\n",
       "    </tr>\n",
       "    <tr>\n",
       "      <th>170</th>\n",
       "      <td>raccoon-190.jpg</td>\n",
       "      <td>259</td>\n",
       "      <td>194</td>\n",
       "      <td>raccoon</td>\n",
       "      <td>78</td>\n",
       "      <td>54</td>\n",
       "      <td>153</td>\n",
       "      <td>135</td>\n",
       "      <td>38.548263</td>\n",
       "      <td>75.613900</td>\n",
       "      <td>35.628866</td>\n",
       "      <td>89.072165</td>\n",
       "    </tr>\n",
       "    <tr>\n",
       "      <th>171</th>\n",
       "      <td>raccoon-22.jpg</td>\n",
       "      <td>640</td>\n",
       "      <td>360</td>\n",
       "      <td>raccoon</td>\n",
       "      <td>252</td>\n",
       "      <td>76</td>\n",
       "      <td>466</td>\n",
       "      <td>335</td>\n",
       "      <td>50.400000</td>\n",
       "      <td>93.200000</td>\n",
       "      <td>27.022222</td>\n",
       "      <td>119.111111</td>\n",
       "    </tr>\n",
       "    <tr>\n",
       "      <th>172</th>\n",
       "      <td>raccoon-152.jpg</td>\n",
       "      <td>275</td>\n",
       "      <td>183</td>\n",
       "      <td>raccoon</td>\n",
       "      <td>41</td>\n",
       "      <td>60</td>\n",
       "      <td>223</td>\n",
       "      <td>155</td>\n",
       "      <td>19.083636</td>\n",
       "      <td>103.796364</td>\n",
       "      <td>41.967213</td>\n",
       "      <td>108.415301</td>\n",
       "    </tr>\n",
       "  </tbody>\n",
       "</table>\n",
       "<p>148 rows × 12 columns</p>\n",
       "</div>"
      ],
      "text/plain": [
       "            filename  width  height    class  xmin  ymin  xmax  ymax  \\\n",
       "0     raccoon-17.jpg    259     194  raccoon    95    60   167   118   \n",
       "1     raccoon-11.jpg    660     432  raccoon     3     1   461   431   \n",
       "4     raccoon-60.jpg    273     185  raccoon    58    33   197   127   \n",
       "5     raccoon-69.jpg    205     246  raccoon    12    11   188   240   \n",
       "6    raccoon-180.jpg    600     400  raccoon   119    21   368   399   \n",
       "..               ...    ...     ...      ...   ...   ...   ...   ...   \n",
       "168  raccoon-137.jpg    320     240  raccoon    71     8   304   233   \n",
       "169  raccoon-171.jpg    224     225  raccoon   108    21   180   115   \n",
       "170  raccoon-190.jpg    259     194  raccoon    78    54   153   135   \n",
       "171   raccoon-22.jpg    640     360  raccoon   252    76   466   335   \n",
       "172  raccoon-152.jpg    275     183  raccoon    41    60   223   155   \n",
       "\n",
       "       xmin_rs     xmax_rs    ymin_rs     ymax_rs  \n",
       "0    46.949807   82.532819  39.587629   77.855670  \n",
       "1     0.581818   89.406061   0.296296  127.703704  \n",
       "4    27.194139   92.366300  22.832432   87.870270  \n",
       "5     7.492683  117.385366   5.723577  124.878049  \n",
       "6    25.386667   78.506667   6.720000  127.680000  \n",
       "..         ...         ...        ...         ...  \n",
       "168  28.400000  121.600000   4.266667  124.266667  \n",
       "169  61.714286  102.857143  11.946667   65.422222  \n",
       "170  38.548263   75.613900  35.628866   89.072165  \n",
       "171  50.400000   93.200000  27.022222  119.111111  \n",
       "172  19.083636  103.796364  41.967213  108.415301  \n",
       "\n",
       "[148 rows x 12 columns]"
      ]
     },
     "execution_count": 31,
     "metadata": {},
     "output_type": "execute_result"
    }
   ],
   "source": [
    "df"
   ]
  },
  {
   "cell_type": "code",
   "execution_count": 176,
   "id": "dying-array",
   "metadata": {},
   "outputs": [],
   "source": [
    "# !mkdir Data/Racoon\\ Images/images_rs"
   ]
  },
  {
   "cell_type": "code",
   "execution_count": 7,
   "id": "tracked-hungary",
   "metadata": {},
   "outputs": [
    {
     "data": {
      "text/plain": [
       "(118, 30)"
      ]
     },
     "execution_count": 7,
     "metadata": {},
     "output_type": "execute_result"
    }
   ],
   "source": [
    "# Train/valid split\n",
    "valid = df.sample(frac=.2)\n",
    "train = df.drop(valid.index)\n",
    "len(train),len(valid)"
   ]
  },
  {
   "cell_type": "code",
   "execution_count": 8,
   "id": "connected-reader",
   "metadata": {
    "tags": []
   },
   "outputs": [],
   "source": [
    "class RaccoonDataset(Dataset):\n",
    "    def __init__(self, df, root, augment=True):\n",
    "        # Dataframe with bounding boxes\n",
    "        self.df = df\n",
    "        self.root = root\n",
    "        \n",
    "            # define the transformation\n",
    "        if augment == True:\n",
    "            self.transforms = A.Compose([\n",
    "                albumentations.augmentations.transforms.VerticalFlip(p=.25),\n",
    "                albumentations.augmentations.transforms.HorizontalFlip(p=.25),\n",
    "                A.Normalize(mean=(0.485, 0.456, 0.406), std=(0.229, 0.224, 0.225)),\n",
    "                ToTensorV2()])\n",
    "        else:\n",
    "            self.transforms = A.Compose([\n",
    "                A.Normalize(mean=(0.485, 0.456, 0.406), std=(0.229, 0.224, 0.225)),\n",
    "                \n",
    "                # convert to a tensor and move color channels\n",
    "                ToTensorV2()\n",
    "            ])\n",
    "        \n",
    "    def __len__(self):\n",
    "        return len(self.df) # this only works if 1:1 image:label\n",
    "    \n",
    "    def __getitem__(self, idx):\n",
    "        row = df.iloc[idx]\n",
    "        \n",
    "        # Create image array\n",
    "        fname = row['filename']\n",
    "        img_path = root + '/' + fname\n",
    "        img = cv2.imread(img_path)\n",
    "        \n",
    "        # convert to RGB\n",
    "        img = cv2.cvtColor(img, cv2.COLOR_BGR2RGB)\n",
    "        \n",
    "        # move color channels to correct spot\n",
    "#         img = np.transpose(img, (2, 0, 1))\n",
    "        \n",
    "        # convert to [0,1] scale\n",
    "#         img = torch.tensor(img / 255.).float()\n",
    "        # resize image\n",
    "\n",
    "        transformed = self.transforms(image=img.astype(np.uint8))\n",
    "        img = transformed['image']   \n",
    "        \n",
    "        \n",
    "        # Get bounding box label\n",
    "        xmin, ymin = tuple(list(row[['xmin_rs','ymin_rs']].values))\n",
    "        xmax, ymax = tuple(list(row[['xmax_rs','ymax_rs']].values))\n",
    "        label = torch.tensor([xmin,ymin,xmax,ymax]).float()\n",
    "        \n",
    "        return img, label"
   ]
  },
  {
   "cell_type": "code",
   "execution_count": 9,
   "id": "sporting-scoop",
   "metadata": {},
   "outputs": [],
   "source": [
    "root = 'Data/Racoon Images/images_rs'\n",
    "train_ds = RaccoonDataset(train, root)\n",
    "valid_ds = RaccoonDataset(valid, root)"
   ]
  },
  {
   "cell_type": "code",
   "execution_count": 10,
   "id": "68d60290-94c0-4b2e-9bbd-2e6865f2a031",
   "metadata": {},
   "outputs": [
    {
     "data": {
      "text/plain": [
       "tensor([46.9498, 39.5876, 82.5328, 77.8557])"
      ]
     },
     "execution_count": 10,
     "metadata": {},
     "output_type": "execute_result"
    }
   ],
   "source": [
    "x, y = next(iter(train_ds))\n",
    "y"
   ]
  },
  {
   "cell_type": "code",
   "execution_count": 190,
   "id": "downtown-trailer",
   "metadata": {},
   "outputs": [
    {
     "data": {
      "text/plain": [
       "tensor([[ 27.6757,  35.6289, 111.6911,  98.9691]])"
      ]
     },
     "execution_count": 190,
     "metadata": {},
     "output_type": "execute_result"
    }
   ],
   "source": [
    "x, y = next(iter(train_ds))\n",
    "y"
   ]
  },
  {
   "cell_type": "code",
   "execution_count": 11,
   "id": "departmental-volume",
   "metadata": {
    "tags": []
   },
   "outputs": [],
   "source": [
    "class CNN(nn.Module):\n",
    "    def __init__(self):\n",
    "        super().__init__()\n",
    "        \n",
    "        # same padding!\n",
    "        self.conv1 = nn.Conv2d(in_channels=3, out_channels=32, kernel_size=3, padding=1)\n",
    "        self.conv2 = nn.Conv2d(in_channels=32, out_channels=64, kernel_size=3, padding=1)\n",
    "        self.conv3 = nn.Conv2d(in_channels=64, out_channels=128, kernel_size=3, padding=1)\n",
    "        \n",
    "        # doing this to shrink size enough!\n",
    "        self.conv4 = nn.Conv2d(in_channels=128, out_channels=1, kernel_size=3, padding=1)\n",
    "        \n",
    "        self.linear1 = nn.Linear(256, 100)\n",
    "        \n",
    "        # read documentation for CrossEntropy Loss!\n",
    "        self.linear2 = nn.Linear(100, 4)\n",
    "        \n",
    "        # pooling\n",
    "        self.pool = nn.MaxPool2d(kernel_size=2)\n",
    "        \n",
    "        # activation\n",
    "        self.relu = nn.ReLU()\n",
    "        \n",
    "        # for unrolling into FC layer\n",
    "        self.unroll = nn.Flatten()\n",
    "        \n",
    "        # using 2d because we are using images! input should be the size of out channels \n",
    "        self.bn1 = nn.BatchNorm2d(32)\n",
    "        self.bn2 = nn.BatchNorm2d(64)\n",
    "        self.bn3 = nn.BatchNorm2d(128)\n",
    "\n",
    "\n",
    "        \n",
    "    def forward(self, x):\n",
    "        \n",
    "        x = self.conv1(x)\n",
    "        x = self.bn1(x)\n",
    "        x = self.relu(x)\n",
    "        x = self.pool(x)\n",
    "        \n",
    "        x = self.conv2(x)\n",
    "        x = self.bn2(x)\n",
    "        x = self.relu(x)\n",
    "        x = self.pool(x)\n",
    "        \n",
    "        x = self.conv3(x)\n",
    "        x = self.bn3(x)\n",
    "        x = self.relu(x)\n",
    "        x = self.pool(x)\n",
    "        \n",
    "        x = self.conv4(x)\n",
    "        \n",
    "        x = self.relu(x)\n",
    "        \n",
    "        # unroll x for FC layer\n",
    "        x = self.linear1(self.unroll(x))\n",
    "        x = self.relu(x)\n",
    "        x = self.linear2(x)\n",
    "        \n",
    "        return x\n",
    "\n",
    "model = CNN()"
   ]
  },
  {
   "cell_type": "code",
   "execution_count": 12,
   "id": "driving-carbon",
   "metadata": {
    "tags": []
   },
   "outputs": [],
   "source": [
    "train_dl = DataLoader(train_ds, batch_size=2, shuffle=True)\n",
    "valid_dl = DataLoader(valid_ds, batch_size=2, shuffle=False)"
   ]
  },
  {
   "cell_type": "code",
   "execution_count": 14,
   "id": "realistic-transsexual",
   "metadata": {
    "tags": []
   },
   "outputs": [
    {
     "data": {
      "text/plain": [
       "tensor([[ 0.0821, -0.0302, -0.0968,  0.0958],\n",
       "        [ 0.0473, -0.0242, -0.0227,  0.0118]], grad_fn=<AddmmBackward>)"
      ]
     },
     "execution_count": 25,
     "metadata": {},
     "output_type": "execute_result"
    }
   ],
   "source": [
    "x, y = next(iter(train_dl))\n",
    "model = CNN()\n",
    "model(x)"
   ]
  },
  {
   "cell_type": "code",
   "execution_count": null,
   "id": "close-induction",
   "metadata": {
    "tags": []
   },
   "outputs": [
    {
     "data": {
      "text/plain": [
       "tensor([[-0.1906,  0.2061, -0.2120, -0.0855],\n",
       "        [-0.0513,  0.0546,  0.0130, -0.0801]], grad_fn=<AddmmBackward>)"
      ]
     },
     "execution_count": 26,
     "metadata": {},
     "output_type": "execute_result"
    }
   ],
   "source": [
    "# # make final layer output four predictions (top left and bottom right corners of the bouning box)\n",
    "x, y = next(iter(train_dl))\n",
    "model = CNN()\n",
    "model(x)"
   ]
  },
  {
   "cell_type": "markdown",
   "id": "alpine-plain",
   "metadata": {},
   "source": [
    "# MSE Loss Test"
   ]
  },
  {
   "cell_type": "code",
   "execution_count": 15,
   "id": "annoying-registrar",
   "metadata": {
    "tags": []
   },
   "outputs": [],
   "source": [
    "loss_fun = nn.MSELoss()\n",
    "def run_model(model):\n",
    "    for epoch in range(100):\n",
    "        # Train\n",
    "        train_loss = 0\n",
    "        for x, y in train_dl:\n",
    "            model.train()\n",
    "            y_pred = model(x)\n",
    "            loss = loss_fun(y, y_pred)\n",
    "\n",
    "            optimizer.zero_grad()\n",
    "            loss.backward()\n",
    "            optimizer.step()\n",
    "            train_loss += loss.item() * x.shape[0]\n",
    "            \n",
    "        # Valid\n",
    "        val_loss = 0\n",
    "        for x, y in valid_dl:\n",
    "            model.eval()\n",
    "            y_pred = model(x)\n",
    "            loss = loss_fun(y, y_pred)\n",
    "            val_loss += loss.item() * x.shape[0]\n",
    "        if epoch % 5 == 0:\n",
    "            print(f'Epoch {epoch} - Train loss: {round(train_loss/len(train),4)}  Valid loss: {round(val_loss/len(valid),4)}')    \n",
    "            print()"
   ]
  },
  {
   "cell_type": "code",
   "execution_count": 16,
   "id": "lined-confidentiality",
   "metadata": {
    "tags": []
   },
   "outputs": [
    {
     "name": "stderr",
     "output_type": "stream",
     "text": [
      "/Users/elysecs/Desktop/Virtual_Envs/deeplearning/lib/python3.8/site-packages/torch/nn/modules/loss.py:528: UserWarning: Using a target size (torch.Size([1, 4])) that is different to the input size (torch.Size([1, 1, 4])). This will likely lead to incorrect results due to broadcasting. Please ensure they have the same size.\n",
      "  return F.mse_loss(input, target, reduction=self.reduction)\n"
     ]
    },
    {
     "data": {
      "text/plain": [
       "tensor(5835.6006, grad_fn=<MseLossBackward>)"
      ]
     },
     "execution_count": 16,
     "metadata": {},
     "output_type": "execute_result"
    }
   ],
   "source": [
    "# x, y = next(iter(train_dl))\n",
    "# print(y)\n",
    "model = CNN()\n",
    "y_pred = model(x)\n",
    "# print(y_pred)\n",
    "loss = loss_fun(y.unsqueeze(1), y_pred)\n",
    "loss"
   ]
  },
  {
   "cell_type": "markdown",
   "id": "impressive-shade",
   "metadata": {},
   "source": [
    "# Modeling Test"
   ]
  },
  {
   "cell_type": "markdown",
   "id": "convertible-california",
   "metadata": {},
   "source": [
    "## Test One: thee batch norm layers "
   ]
  },
  {
   "cell_type": "code",
   "execution_count": null,
   "id": "likely-attribute",
   "metadata": {
    "jupyter": {
     "source_hidden": true
    },
    "tags": []
   },
   "outputs": [],
   "source": [
    "class CNN(nn.Module):\n",
    "    def __init__(self):\n",
    "        super().__init__()\n",
    "        \n",
    "        # same padding!\n",
    "        self.conv1 = nn.Conv2d(in_channels=3, out_channels=32, kernel_size=3, padding=1)\n",
    "        self.conv2 = nn.Conv2d(in_channels=32, out_channels=64, kernel_size=3, padding=1)\n",
    "        self.conv3 = nn.Conv2d(in_channels=64, out_channels=128, kernel_size=3, padding=1)\n",
    "        \n",
    "        # doing this to shrink size enough!\n",
    "        self.conv4 = nn.Conv2d(in_channels=128, out_channels=1, kernel_size=3, padding=1)\n",
    "        \n",
    "        self.linear1 = nn.Linear(256, 100)\n",
    "        \n",
    "        # read documentation for CrossEntropy Loss!\n",
    "        self.linear2 = nn.Linear(100, 4)\n",
    "        \n",
    "        # pooling\n",
    "        self.pool = nn.MaxPool2d(kernel_size=2)\n",
    "        \n",
    "        # activation\n",
    "        self.relu = nn.ReLU()\n",
    "        \n",
    "        # for unrolling into FC layer\n",
    "        self.unroll = nn.Flatten()\n",
    "        \n",
    "        # using 2d because we are using images! input should be the size of out channels \n",
    "        self.bn1 = nn.BatchNorm2d(32)\n",
    "        self.bn2 = nn.BatchNorm2d(64)\n",
    "        self.bn3 = nn.BatchNorm2d(128)\n",
    "\n",
    "\n",
    "        \n",
    "    def forward(self, x):\n",
    "        \n",
    "        x = self.conv1(x)\n",
    "        x = self.bn1(x)\n",
    "        x = self.relu(x)\n",
    "        x = self.pool(x)\n",
    "        \n",
    "        x = self.conv2(x)\n",
    "        x = self.bn2(x)\n",
    "        x = self.relu(x)\n",
    "        x = self.pool(x)\n",
    "        \n",
    "        x = self.conv3(x)\n",
    "        x = self.bn3(x)\n",
    "        x = self.relu(x)\n",
    "        x = self.pool(x)\n",
    "        \n",
    "        x = self.conv4(x)\n",
    "        \n",
    "        x = self.relu(x)\n",
    "        \n",
    "        # unroll x for FC layer\n",
    "        x = self.linear1(self.unroll(x))\n",
    "        x = self.relu(x)\n",
    "        x = self.linear2(x)\n",
    "        \n",
    "        return x\n",
    "\n",
    "model = CNN()"
   ]
  },
  {
   "cell_type": "code",
   "execution_count": 241,
   "id": "sensitive-manner",
   "metadata": {
    "collapsed": true,
    "jupyter": {
     "outputs_hidden": true,
     "source_hidden": true
    },
    "tags": []
   },
   "outputs": [
    {
     "name": "stdout",
     "output_type": "stream",
     "text": [
      "Epoch 0 - Train loss: 6366.1472  Valid loss: 6228.6211\n",
      "\n",
      "Epoch 5 - Train loss: 6365.6229  Valid loss: 6229.2083\n",
      "\n",
      "Epoch 10 - Train loss: 6365.87  Valid loss: 6229.6216\n",
      "\n",
      "Epoch 15 - Train loss: 6366.1939  Valid loss: 6228.8632\n",
      "\n",
      "Epoch 20 - Train loss: 6365.2109  Valid loss: 6228.8839\n",
      "\n",
      "Epoch 25 - Train loss: 6365.5926  Valid loss: 6229.8637\n",
      "\n",
      "Epoch 30 - Train loss: 6366.1778  Valid loss: 6229.7599\n",
      "\n",
      "Epoch 35 - Train loss: 6366.0538  Valid loss: 6229.4607\n",
      "\n",
      "Epoch 40 - Train loss: 6365.7446  Valid loss: 6229.8412\n",
      "\n",
      "Epoch 45 - Train loss: 6365.7713  Valid loss: 6229.3396\n",
      "\n",
      "Epoch 50 - Train loss: 6365.291  Valid loss: 6229.7833\n",
      "\n",
      "Epoch 55 - Train loss: 6365.8816  Valid loss: 6230.6317\n",
      "\n",
      "Epoch 60 - Train loss: 6366.0522  Valid loss: 6230.0157\n",
      "\n",
      "Epoch 65 - Train loss: 6366.2603  Valid loss: 6229.977\n",
      "\n",
      "Epoch 70 - Train loss: 6365.4015  Valid loss: 6228.9722\n",
      "\n",
      "Epoch 75 - Train loss: 6366.0816  Valid loss: 6230.329\n",
      "\n",
      "Epoch 80 - Train loss: 6365.5408  Valid loss: 6228.9805\n",
      "\n",
      "Epoch 85 - Train loss: 6366.2449  Valid loss: 6229.7218\n",
      "\n",
      "Epoch 90 - Train loss: 6365.5292  Valid loss: 6229.9706\n",
      "\n",
      "Epoch 95 - Train loss: 6365.7843  Valid loss: 6229.8107\n",
      "\n"
     ]
    }
   ],
   "source": [
    "optimizer = optim.Adam(model.parameters(), lr = 0.001)\n",
    "model = CNN()\n",
    "run_model(model)"
   ]
  },
  {
   "cell_type": "markdown",
   "id": "bulgarian-poetry",
   "metadata": {},
   "source": [
    "## Test two: only two batchnorm layers"
   ]
  },
  {
   "cell_type": "code",
   "execution_count": 242,
   "id": "assigned-carrier",
   "metadata": {
    "jupyter": {
     "source_hidden": true
    },
    "tags": []
   },
   "outputs": [],
   "source": [
    "class CNN(nn.Module):\n",
    "    def __init__(self):\n",
    "        super().__init__()\n",
    "        \n",
    "        # same padding!\n",
    "        self.conv1 = nn.Conv2d(in_channels=3, out_channels=32, kernel_size=3, padding=1)\n",
    "        self.conv2 = nn.Conv2d(in_channels=32, out_channels=64, kernel_size=3, padding=1)\n",
    "        self.conv3 = nn.Conv2d(in_channels=64, out_channels=128, kernel_size=3, padding=1)\n",
    "        \n",
    "        # doing this to shrink size enough!\n",
    "        self.conv4 = nn.Conv2d(in_channels=128, out_channels=1, kernel_size=3, padding=1)\n",
    "        \n",
    "        self.linear1 = nn.Linear(256, 100)\n",
    "        \n",
    "        # read documentation for CrossEntropy Loss!\n",
    "        self.linear2 = nn.Linear(100, 4)\n",
    "        \n",
    "        # pooling\n",
    "        self.pool = nn.MaxPool2d(kernel_size=2)\n",
    "        \n",
    "        # activation\n",
    "        self.relu = nn.ReLU()\n",
    "        \n",
    "        # for unrolling into FC layer\n",
    "        self.unroll = nn.Flatten()\n",
    "        \n",
    "        # using 2d because we are using images! input should be the size of out channels \n",
    "        self.bn1 = nn.BatchNorm2d(32)\n",
    "        self.bn2 = nn.BatchNorm2d(64)\n",
    "        self.bn3 = nn.BatchNorm2d(128)\n",
    "\n",
    "\n",
    "        \n",
    "    def forward(self, x):\n",
    "        \n",
    "        x = self.conv1(x)\n",
    "        x = self.bn1(x)\n",
    "        x = self.relu(x)\n",
    "        x = self.pool(x)\n",
    "        \n",
    "        x = self.conv2(x)\n",
    "#         x = self.bn2(x)\n",
    "        x = self.relu(x)\n",
    "        x = self.pool(x)\n",
    "        \n",
    "        x = self.conv3(x)\n",
    "        x = self.bn3(x)\n",
    "        x = self.relu(x)\n",
    "        x = self.pool(x)\n",
    "        \n",
    "        x = self.conv4(x)\n",
    "        \n",
    "        x = self.relu(x)\n",
    "        \n",
    "        # unroll x for FC layer\n",
    "        x = self.linear1(self.unroll(x))\n",
    "        x = self.relu(x)\n",
    "        x = self.linear2(x)\n",
    "        \n",
    "        return x\n",
    "\n",
    "model = CNN()"
   ]
  },
  {
   "cell_type": "code",
   "execution_count": 244,
   "id": "included-daisy",
   "metadata": {
    "collapsed": true,
    "jupyter": {
     "outputs_hidden": true,
     "source_hidden": true
    },
    "tags": []
   },
   "outputs": [
    {
     "name": "stdout",
     "output_type": "stream",
     "text": [
      "Epoch 0 - Train loss: 6377.9437  Valid loss: 6241.6056\n",
      "\n",
      "Epoch 5 - Train loss: 6377.7501  Valid loss: 6241.9891\n",
      "\n",
      "Epoch 10 - Train loss: 6377.7649  Valid loss: 6241.0104\n",
      "\n",
      "Epoch 15 - Train loss: 6377.4356  Valid loss: 6241.3826\n",
      "\n",
      "Epoch 20 - Train loss: 6377.8669  Valid loss: 6242.1528\n",
      "\n",
      "Epoch 25 - Train loss: 6377.7225  Valid loss: 6241.2702\n",
      "\n",
      "Epoch 30 - Train loss: 6378.0261  Valid loss: 6241.7005\n",
      "\n",
      "Epoch 35 - Train loss: 6377.733  Valid loss: 6241.4694\n",
      "\n",
      "Epoch 40 - Train loss: 6377.7207  Valid loss: 6241.6408\n",
      "\n",
      "Epoch 45 - Train loss: 6377.5765  Valid loss: 6241.6018\n",
      "\n",
      "Epoch 50 - Train loss: 6377.7526  Valid loss: 6241.9814\n",
      "\n",
      "Epoch 55 - Train loss: 6377.5238  Valid loss: 6240.8054\n",
      "\n",
      "Epoch 60 - Train loss: 6377.556  Valid loss: 6242.8435\n",
      "\n",
      "Epoch 65 - Train loss: 6378.1416  Valid loss: 6241.1074\n",
      "\n",
      "Epoch 70 - Train loss: 6377.6513  Valid loss: 6241.2645\n",
      "\n",
      "Epoch 75 - Train loss: 6377.6139  Valid loss: 6242.3273\n",
      "\n",
      "Epoch 80 - Train loss: 6377.7528  Valid loss: 6242.2074\n",
      "\n",
      "Epoch 85 - Train loss: 6377.7336  Valid loss: 6241.9237\n",
      "\n",
      "Epoch 90 - Train loss: 6377.7275  Valid loss: 6241.6363\n",
      "\n",
      "Epoch 95 - Train loss: 6377.907  Valid loss: 6241.0344\n",
      "\n"
     ]
    }
   ],
   "source": [
    "optimizer = optim.Adam(model.parameters(), lr = 0.01)\n",
    "model = CNN()\n",
    "run_model(model)"
   ]
  },
  {
   "cell_type": "markdown",
   "id": "expensive-charge",
   "metadata": {},
   "source": [
    "## Test Three: with one Dropout (.2 chance)"
   ]
  },
  {
   "cell_type": "code",
   "execution_count": 245,
   "id": "interpreted-maria",
   "metadata": {
    "jupyter": {
     "source_hidden": true
    },
    "tags": []
   },
   "outputs": [],
   "source": [
    "class CNN(nn.Module):\n",
    "    def __init__(self):\n",
    "        super().__init__()\n",
    "        \n",
    "        self.conv1 = nn.Conv2d(in_channels=3, out_channels=32, kernel_size=3, padding=1)\n",
    "        self.conv2 = nn.Conv2d(in_channels=32, out_channels=64, kernel_size=3, padding=1)\n",
    "        self.conv3 = nn.Conv2d(in_channels=64, out_channels=128, kernel_size=3, padding=1)\n",
    "        self.conv4 = nn.Conv2d(in_channels=128, out_channels=1, kernel_size=3, padding=1)\n",
    "        \n",
    "        self.linear1 = nn.Linear(256, 100)\n",
    "        self.linear2 = nn.Linear(100, 4)\n",
    "        self.pool = nn.MaxPool2d(kernel_size=2)\n",
    "        self.relu = nn.ReLU()\n",
    "        \n",
    "        self.unroll = nn.Flatten()\n",
    "        \n",
    "        # using 2d batch norm because we are using images! input should be the size of out channels \n",
    "        self.bn1 = nn.BatchNorm2d(32)\n",
    "        self.bn2 = nn.BatchNorm2d(64)\n",
    "        self.bn3 = nn.BatchNorm2d(128)\n",
    "\n",
    "        self.drop = nn.Dropout(0.2)\n",
    "\n",
    "\n",
    "        \n",
    "    def forward(self, x):\n",
    "        \n",
    "        x = self.conv1(x)\n",
    "        x = self.bn1(x)\n",
    "        x = self.relu(x)\n",
    "        x = self.pool(x)\n",
    "        \n",
    "        # adding one dropout \n",
    "        x = self.drop(x)\n",
    "        x = self.conv2(x)\n",
    "        x = self.bn2(x)\n",
    "        x = self.relu(x)\n",
    "        x = self.pool(x)\n",
    "        \n",
    "        x = self.conv3(x)\n",
    "        x = self.bn3(x)\n",
    "        x = self.relu(x)\n",
    "        x = self.pool(x)\n",
    "        \n",
    "        x = self.conv4(x)\n",
    "        \n",
    "        x = self.relu(x)\n",
    "        \n",
    "        # unroll x for FC layer\n",
    "        x = self.linear1(self.unroll(x))\n",
    "        x = self.relu(x)\n",
    "        x = self.linear2(x)\n",
    "        \n",
    "        return x\n",
    "\n",
    "model = CNN()"
   ]
  },
  {
   "cell_type": "code",
   "execution_count": 247,
   "id": "honey-houston",
   "metadata": {
    "collapsed": true,
    "jupyter": {
     "outputs_hidden": true,
     "source_hidden": true
    },
    "tags": []
   },
   "outputs": [
    {
     "name": "stdout",
     "output_type": "stream",
     "text": [
      "Epoch 0 - Train loss: 6360.9659  Valid loss: 6224.4633\n",
      "\n",
      "Epoch 5 - Train loss: 6361.9964  Valid loss: 6227.1757\n",
      "\n",
      "Epoch 10 - Train loss: 6361.4902  Valid loss: 6225.5016\n",
      "\n",
      "Epoch 15 - Train loss: 6361.3335  Valid loss: 6226.6715\n",
      "\n",
      "Epoch 20 - Train loss: 6361.5247  Valid loss: 6226.5643\n",
      "\n",
      "Epoch 25 - Train loss: 6361.3121  Valid loss: 6226.7302\n",
      "\n",
      "Epoch 30 - Train loss: 6361.1213  Valid loss: 6225.539\n",
      "\n",
      "Epoch 35 - Train loss: 6361.2645  Valid loss: 6225.7485\n",
      "\n",
      "Epoch 40 - Train loss: 6361.1222  Valid loss: 6224.9803\n",
      "\n",
      "Epoch 45 - Train loss: 6360.7391  Valid loss: 6226.462\n",
      "\n",
      "Epoch 50 - Train loss: 6361.5082  Valid loss: 6225.0488\n",
      "\n",
      "Epoch 55 - Train loss: 6361.685  Valid loss: 6224.8894\n",
      "\n",
      "Epoch 60 - Train loss: 6361.0742  Valid loss: 6226.4783\n",
      "\n",
      "Epoch 65 - Train loss: 6361.6324  Valid loss: 6223.6082\n",
      "\n",
      "Epoch 70 - Train loss: 6360.5333  Valid loss: 6225.3206\n",
      "\n",
      "Epoch 75 - Train loss: 6361.0286  Valid loss: 6227.033\n",
      "\n",
      "Epoch 80 - Train loss: 6361.4933  Valid loss: 6224.9038\n",
      "\n",
      "Epoch 85 - Train loss: 6361.9166  Valid loss: 6226.1951\n",
      "\n",
      "Epoch 90 - Train loss: 6361.0292  Valid loss: 6227.1601\n",
      "\n",
      "Epoch 95 - Train loss: 6361.9058  Valid loss: 6226.0147\n",
      "\n"
     ]
    }
   ],
   "source": [
    "optimizer = optim.Adam(model.parameters(), lr = 0.001)\n",
    "model = CNN()\n",
    "run_model(model)"
   ]
  },
  {
   "cell_type": "markdown",
   "id": "verbal-evans",
   "metadata": {},
   "source": [
    "## Test Four: three dropout layers"
   ]
  },
  {
   "cell_type": "code",
   "execution_count": 248,
   "id": "difficult-judgment",
   "metadata": {
    "jupyter": {
     "source_hidden": true
    },
    "tags": []
   },
   "outputs": [],
   "source": [
    "class CNN(nn.Module):\n",
    "    def __init__(self):\n",
    "        super().__init__()\n",
    "        \n",
    "        self.conv1 = nn.Conv2d(in_channels=3, out_channels=32, kernel_size=3, padding=1)\n",
    "        self.conv2 = nn.Conv2d(in_channels=32, out_channels=64, kernel_size=3, padding=1)\n",
    "        self.conv3 = nn.Conv2d(in_channels=64, out_channels=128, kernel_size=3, padding=1)\n",
    "        self.conv4 = nn.Conv2d(in_channels=128, out_channels=1, kernel_size=3, padding=1)\n",
    "        \n",
    "        self.linear1 = nn.Linear(256, 100)\n",
    "        self.linear2 = nn.Linear(100, 4)\n",
    "        self.pool = nn.MaxPool2d(kernel_size=2)\n",
    "        self.relu = nn.ReLU()\n",
    "        \n",
    "        self.unroll = nn.Flatten()\n",
    "        \n",
    "        # using 2d batch norm because we are using images! input should be the size of out channels \n",
    "        self.bn1 = nn.BatchNorm2d(32)\n",
    "        self.bn2 = nn.BatchNorm2d(64)\n",
    "        self.bn3 = nn.BatchNorm2d(128)\n",
    "\n",
    "        self.drop = nn.Dropout(0.1)\n",
    "\n",
    "\n",
    "        \n",
    "    def forward(self, x):\n",
    "        \n",
    "        x = self.conv1(x)\n",
    "        x = self.drop(x)\n",
    "        x = self.bn1(x)\n",
    "        x = self.relu(x)\n",
    "        x = self.pool(x)\n",
    "        \n",
    "        # adding one dropout \n",
    "        x = self.conv2(x)\n",
    "        x = self.drop(x)\n",
    "        x = self.bn2(x)\n",
    "        x = self.relu(x)\n",
    "        x = self.pool(x)\n",
    "        \n",
    "        x = self.conv3(x)\n",
    "        x = self.drop(x)\n",
    "        x = self.bn3(x)\n",
    "        x = self.relu(x)\n",
    "        x = self.pool(x)\n",
    "        \n",
    "        x = self.conv4(x)\n",
    "        \n",
    "        x = self.relu(x)\n",
    "        \n",
    "        # unroll x for FC layer\n",
    "        x = self.linear1(self.unroll(x))\n",
    "        x = self.relu(x)\n",
    "        x = self.linear2(x)\n",
    "        \n",
    "        return x\n",
    "\n",
    "model = CNN()"
   ]
  },
  {
   "cell_type": "code",
   "execution_count": 249,
   "id": "related-restaurant",
   "metadata": {
    "collapsed": true,
    "jupyter": {
     "outputs_hidden": true,
     "source_hidden": true
    },
    "tags": []
   },
   "outputs": [
    {
     "name": "stdout",
     "output_type": "stream",
     "text": [
      "Epoch 0 - Train loss: 6372.1782  Valid loss: 6236.1045\n",
      "\n",
      "Epoch 5 - Train loss: 6372.12  Valid loss: 6235.8798\n",
      "\n",
      "Epoch 10 - Train loss: 6372.1698  Valid loss: 6235.8344\n",
      "\n",
      "Epoch 15 - Train loss: 6372.084  Valid loss: 6235.9588\n",
      "\n",
      "Epoch 20 - Train loss: 6372.3067  Valid loss: 6235.9877\n",
      "\n",
      "Epoch 25 - Train loss: 6372.1987  Valid loss: 6235.8223\n",
      "\n",
      "Epoch 30 - Train loss: 6372.1938  Valid loss: 6236.0788\n",
      "\n",
      "Epoch 35 - Train loss: 6372.0217  Valid loss: 6235.8846\n",
      "\n",
      "Epoch 40 - Train loss: 6372.347  Valid loss: 6235.9304\n",
      "\n",
      "Epoch 45 - Train loss: 6372.3235  Valid loss: 6236.1341\n",
      "\n",
      "Epoch 50 - Train loss: 6372.1622  Valid loss: 6235.8132\n",
      "\n",
      "Epoch 55 - Train loss: 6371.9358  Valid loss: 6235.9235\n",
      "\n",
      "Epoch 60 - Train loss: 6372.2346  Valid loss: 6236.0361\n",
      "\n",
      "Epoch 65 - Train loss: 6372.3111  Valid loss: 6235.8823\n",
      "\n",
      "Epoch 70 - Train loss: 6372.2829  Valid loss: 6235.9393\n",
      "\n",
      "Epoch 75 - Train loss: 6372.0632  Valid loss: 6236.0111\n",
      "\n",
      "Epoch 80 - Train loss: 6372.2435  Valid loss: 6236.0648\n",
      "\n",
      "Epoch 85 - Train loss: 6372.2101  Valid loss: 6236.2425\n",
      "\n",
      "Epoch 90 - Train loss: 6372.0615  Valid loss: 6235.9283\n",
      "\n",
      "Epoch 95 - Train loss: 6372.3569  Valid loss: 6236.1517\n",
      "\n"
     ]
    }
   ],
   "source": [
    "optimizer = optim.Adam(model.parameters(), lr = 0.0001)\n",
    "model = CNN()\n",
    "run_model(model)"
   ]
  },
  {
   "cell_type": "markdown",
   "id": "523ab3e4-54cb-4fa2-851f-8af1dbfda532",
   "metadata": {},
   "source": [
    "# IOU as Loss Function"
   ]
  },
  {
   "cell_type": "code",
   "execution_count": 17,
   "id": "8017509b-6dd2-48c7-afbb-8469260f7ce5",
   "metadata": {},
   "outputs": [],
   "source": [
    "# Code adapted from https://github.com/t-vi/pytorch-tvmisc/blob/master/misc/pytorch_automatic_optimization_jit.ipynb\n",
    "def ratio_iou(y_pred_bbox, bbox):\n",
    "    # bbox comes in order of x1, y1, x2, y2\n",
    "    iou = 0\n",
    "    for i in range(bbox.shape[0]):\n",
    "        x1 = y_pred_bbox[i][0] # top left x coordinate, x1\n",
    "        y1 = y_pred_bbox[i][3] # top left y coordinate, y2 \n",
    "        w1 = y_pred_bbox[i][2] - y_pred_bbox[i][0] # x2 - x1\n",
    "        h1 = y_pred_bbox[i][3] - y_pred_bbox[i][1] # y2 - y1\n",
    "        x2 = bbox[i][0]\n",
    "        y2 = bbox[i][3]\n",
    "        w2 = bbox[i][2] - bbox[i][0]\n",
    "        h2 = bbox[i][3] - bbox[i][1]\n",
    "        xi = torch.max(x1, x2)                                 # Intersection\n",
    "        yi = torch.max(y1, y2)\n",
    "        wi = torch.clamp(torch.min(x1+w1, x2+w2) - xi, min=0)\n",
    "        wi = torch.min(x1+w1, x2+w2)\n",
    "        hi = torch.clamp(torch.min(y1+h1, y2+h2) - yi, min=0)\n",
    "        area_i = wi * hi                                       # Area Intersection     \n",
    "        area_u = w1 * h1 + w2 * h2 - wi * hi                   # Area Union\n",
    "        iou += (area_i / torch.clamp(area_u, min=1e-5))\n",
    "    return iou/bbox.shape[0]\n",
    "\n",
    "def ratio_iou_loss(y_pred_bbox, bbox):\n",
    "    return -ratio_iou(y_pred_bbox, bbox)"
   ]
  },
  {
   "cell_type": "code",
   "execution_count": 18,
   "id": "ba2f278b-fc35-4731-8f27-b3c04ab7a0d2",
   "metadata": {},
   "outputs": [
    {
     "data": {
      "text/plain": [
       "(tensor([[[[-1.3815, -2.0152, -0.4397,  ..., -1.3644, -1.2959, -1.0048],\n",
       "           [-1.0048, -1.9124, -1.3644,  ..., -0.7137, -1.3302, -0.8507],\n",
       "           [-0.6623, -1.1760, -1.5185,  ..., -0.3541, -1.2445, -1.3130],\n",
       "           ...,\n",
       "           [-1.2788, -1.3473, -1.3130,  ..., -1.6727, -1.6042, -1.0219],\n",
       "           [-1.4158, -1.4843, -1.3302,  ..., -1.3644, -1.3130, -1.2788],\n",
       "           [-1.3644, -1.1932, -1.2103,  ..., -1.5185, -1.2959, -1.1075]],\n",
       " \n",
       "          [[-0.9678, -1.6506, -0.0224,  ..., -1.2304, -1.1604, -0.8978],\n",
       "           [-0.5476, -1.4930, -1.0028,  ..., -0.6176, -1.2654, -0.8102],\n",
       "           [-0.1450, -0.7577, -1.1604,  ..., -0.3200, -1.2829, -1.4055],\n",
       "           ...,\n",
       "           [-0.7227, -0.7752, -0.7752,  ..., -1.2829, -1.2304, -0.6352],\n",
       "           [-1.0203, -1.0903, -0.9503,  ..., -0.8978, -0.9328, -0.9153],\n",
       "           [-1.0378, -0.8452, -0.9153,  ..., -1.0028, -0.8978, -0.7402]],\n",
       " \n",
       "          [[-1.1944, -1.8044, -0.4275,  ..., -1.3687, -1.3513, -1.1247],\n",
       "           [-0.7936, -1.7522, -1.3513,  ..., -0.7413, -1.4384, -1.0201],\n",
       "           [-0.3753, -0.9853, -1.4384,  ..., -0.4450, -1.4210, -1.5256],\n",
       "           ...,\n",
       "           [-1.1770, -1.2641, -1.2816,  ..., -1.6127, -1.5081, -0.9156],\n",
       "           [-1.3861, -1.4559, -1.3687,  ..., -1.2467, -1.2119, -1.1944],\n",
       "           [-1.3339, -1.1944, -1.2816,  ..., -1.3687, -1.2293, -1.0201]]]]),\n",
       " tensor([[  5.6000,  19.1402, 106.0000, 120.2243]]))"
      ]
     },
     "execution_count": 18,
     "metadata": {},
     "output_type": "execute_result"
    }
   ],
   "source": [
    "x, y = next(iter(train_dl))\n",
    "x,y"
   ]
  },
  {
   "cell_type": "code",
   "execution_count": 27,
   "id": "327f18e8-9d8c-4a23-98de-6f27bc4fa5aa",
   "metadata": {},
   "outputs": [
    {
     "data": {
      "text/plain": [
       "tensor([[ 0.6367, -0.1006, -0.2131, -0.0266],\n",
       "        [ 0.2665, -0.1094, -0.1241,  0.0418]], grad_fn=<AddmmBackward>)"
      ]
     },
     "execution_count": 27,
     "metadata": {},
     "output_type": "execute_result"
    }
   ],
   "source": [
    "model = CNN()\n",
    "y_pred = model(x)\n",
    "y_pred"
   ]
  },
  {
   "cell_type": "code",
   "execution_count": 30,
   "id": "10f19a08-4295-4465-bc99-0f8d744b0d0e",
   "metadata": {},
   "outputs": [
    {
     "data": {
      "text/plain": [
       "tensor(-0., grad_fn=<NegBackward>)"
      ]
     },
     "execution_count": 30,
     "metadata": {},
     "output_type": "execute_result"
    }
   ],
   "source": [
    "loss = ratio_iou_loss(y, y_pred)\n",
    "loss"
   ]
  },
  {
   "cell_type": "markdown",
   "id": "00573d1c-9d1c-4aec-ba0b-e617bece573c",
   "metadata": {},
   "source": [
    "# Other Animal Images"
   ]
  },
  {
   "cell_type": "code",
   "execution_count": null,
   "id": "928ced3c-1554-4229-a3a2-e97be6c85f90",
   "metadata": {},
   "outputs": [],
   "source": []
  }
 ],
 "metadata": {
  "kernelspec": {
   "display_name": "Python 3 (ipykernel)",
   "language": "python",
   "name": "python3"
  },
  "language_info": {
   "codemirror_mode": {
    "name": "ipython",
    "version": 3
   },
   "file_extension": ".py",
   "mimetype": "text/x-python",
   "name": "python",
   "nbconvert_exporter": "python",
   "pygments_lexer": "ipython3",
   "version": "3.8.6"
  }
 },
 "nbformat": 4,
 "nbformat_minor": 5
}
